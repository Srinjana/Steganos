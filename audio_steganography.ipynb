{
  "nbformat": 4,
  "nbformat_minor": 0,
  "metadata": {
    "colab": {
      "name": "audio_steganography.ipynb",
      "provenance": [],
      "authorship_tag": "ABX9TyPiz/sjbajEc6GxIVZPQ9lY",
      "include_colab_link": true
    },
    "kernelspec": {
      "name": "python3",
      "display_name": "Python 3"
    },
    "language_info": {
      "name": "python"
    }
  },
  "cells": [
    {
      "cell_type": "markdown",
      "metadata": {
        "id": "view-in-github",
        "colab_type": "text"
      },
      "source": [
        "<a href=\"https://colab.research.google.com/github/Srinjana/Steganos/blob/main/audio_steganography.ipynb\" target=\"_parent\"><img src=\"https://colab.research.google.com/assets/colab-badge.svg\" alt=\"Open In Colab\"/></a>"
      ]
    },
    {
      "cell_type": "code",
      "metadata": {
        "id": "NZtXIW-bD04B"
      },
      "source": [
        "import os\n",
        "import wave\n",
        "import librosa\n",
        "import soundfile as sf"
      ],
      "execution_count": 26,
      "outputs": []
    },
    {
      "cell_type": "code",
      "metadata": {
        "id": "C9pI7Ke_Fod0"
      },
      "source": [
        "def house_keeping():\n",
        "  os.remove(\"tmp.wav\")\n",
        "  print(\"[INFO] Cleanup complete\")"
      ],
      "execution_count": 27,
      "outputs": []
    },
    {
      "cell_type": "code",
      "metadata": {
        "id": "yWfwpizBFr0p"
      },
      "source": [
        "def encoding (file_nm, string):\n",
        "\n",
        "    # Read frames and convert to byte array\n",
        "    x,_ = librosa.load(file_nm, sr=16000)\n",
        "    sf.write('tmp.wav', x, 16000)\n",
        "    song = wave.open('tmp.wav', mode='rb')\n",
        "    frame_bytes = bytearray(list(song.readframes(song.getnframes())))\n",
        "\n",
        "    # Append dummy data to fill out rest of the bytes. Receiver shall detect and remove these characters.\n",
        "    string = string + int((len(frame_bytes)-(len(string)*8*8))/8) * '#'\n",
        "    # Convert text to bit array\n",
        "    bits = list(map(int, ''.join([bin(ord(i)).lstrip('0b').rjust(8, '0') for i in string])))\n",
        "\n",
        "    # Replacing LSB of each byte of the audio data by one bit from the text bit array\n",
        "    for i, bit in enumerate(bits):\n",
        "        frame_bytes[i] = (frame_bytes[i] & 254) | bit\n",
        "    # Get the modified bytes\n",
        "    frame_modified = bytes(frame_bytes)\n",
        "\n",
        "    # Write bytes to a new wave audio file\n",
        "    with wave.open('encoded.wav', 'wb') as fd:\n",
        "        fd.setparams(song.getparams())\n",
        "        fd.writeframes(frame_modified)\n",
        "    song.close()\n",
        "    house_keeping()\n"
      ],
      "execution_count": 28,
      "outputs": []
    },
    {
      "cell_type": "code",
      "metadata": {
        "id": "2sMwoXbHFvSl"
      },
      "source": [
        "def decoding(en_file_nm):\n",
        "    song = wave.open(en_file_nm, mode='rb')\n",
        "\n",
        "\n",
        "    # Convert audio to byte array\n",
        "    frame_bytes = bytearray(list(song.readframes(song.getnframes())))\n",
        "\n",
        "    # Extract the LSB of each byte\n",
        "    extracted = [frame_bytes[i] & 1 for i in range(len(frame_bytes))]\n",
        "    # Convert byte array back to string\n",
        "    string = \"\".join(chr(\n",
        "        int(\"\".join(map(str, extracted[i:i+8])), 2)) for i in range(0, len(extracted), 8))\n",
        "    # Cut off at the filler characters\n",
        "    decoded = string.split(\"###\")[0]\n",
        "\n",
        "    return decoded\n",
        "    song.close()\n"
      ],
      "execution_count": 29,
      "outputs": []
    },
    {
      "cell_type": "code",
      "metadata": {
        "colab": {
          "base_uri": "https://localhost:8080/"
        },
        "id": "C4AaCzd8F0ju",
        "outputId": "1d61e944-c97a-45e4-fd47-fa23986d81e3"
      },
      "source": [
        "# Driver Code\n",
        "\n",
        "if __name__ == \"__main__\":\n",
        "    while True:\n",
        "        print(\"  \")\n",
        "        print(\"--- SELECT AN OPTION TO PERFORM AUDIO STEGANOGRAPHY ---\")\n",
        "        print(\"1.Hide a secret message in an audio file \\n2.Reveal the secret message from the audio\")\n",
        "        print(\"Enter any other key to exit\")\n",
        "        choice = input(\"Enter your key here: \")\n",
        "        if (choice == '1'):\n",
        "            file_nm = input(\"Enter the name of your audio-file of choice, with extension: \")\n",
        "            secret_msg = input(\"Enter your secret message: \")\n",
        "\n",
        "            encoding(file_nm, secret_msg)\n",
        "            print(\"Encoding...\")\n",
        "            print(\"[INFO] YOUR MESSAGE HAS BEEN RECORDED.\")\n",
        "            print(\"[INFO] Your encoded audio is saved as 'encoded.wav'.\")\n",
        "\n",
        "        elif (choice == '2'):\n",
        "            en_file_nm = input(\"Enter the name of your encoded audio-file, with extension: \")\n",
        "            print(\"Decoding...\")\n",
        "            secret = decoding(en_file_nm)\n",
        "            # Print the extracted text\n",
        "            print(\"[INFO] Your secret message has been decoded successfully.\")\n",
        "            print(\" \")\n",
        "            print(\"Your secret message is: \"+secret)\n",
        "        \n",
        "        else:\n",
        "            print (\"Exiting...\")\n",
        "            break\n"
      ],
      "execution_count": 30,
      "outputs": [
        {
          "output_type": "stream",
          "text": [
            "  \n",
            "--- SELECT AN OPTION TO PERFORM AUDIO STEGANOGRAPHY ---\n",
            "1.Hide a secret message in an audio file \n",
            "2.Reveal the secret message from the audio\n",
            "Enter any other key to exit\n",
            "Enter your key here: 1\n",
            "Enter the name of your audio-file of choice, with extension: lofi.wav\n",
            "Enter your secret message: Our agent has been compromised\n"
          ],
          "name": "stdout"
        },
        {
          "output_type": "stream",
          "text": [
            "/usr/local/lib/python3.7/dist-packages/librosa/core/audio.py:165: UserWarning: PySoundFile failed. Trying audioread instead.\n",
            "  warnings.warn(\"PySoundFile failed. Trying audioread instead.\")\n"
          ],
          "name": "stderr"
        },
        {
          "output_type": "stream",
          "text": [
            "[INFO] Cleanup complete\n",
            "Encoding...\n",
            "[INFO] YOUR MESSAGE HAS BEEN RECORDED.\n",
            "[INFO] Your encoded audio is saved as 'encoded.wav'.\n",
            "  \n",
            "--- SELECT AN OPTION TO PERFORM AUDIO STEGANOGRAPHY ---\n",
            "1.Hide a secret message in an audio file \n",
            "2.Reveal the secret message from the audio\n",
            "Enter any other key to exit\n",
            "Enter your key here: 2\n",
            "Enter the name of your encoded audio-file, with extension: encoded.wav\n",
            "Decoding...\n",
            "[INFO] Your secret message has been decoded successfully.\n",
            " \n",
            "Your secret message is: Our agent has been compromised\n",
            "  \n",
            "--- SELECT AN OPTION TO PERFORM AUDIO STEGANOGRAPHY ---\n",
            "1.Hide a secret message in an audio file \n",
            "2.Reveal the secret message from the audio\n",
            "Enter any other key to exit\n",
            "Enter your key here: x\n",
            "Exiting...\n"
          ],
          "name": "stdout"
        }
      ]
    }
  ]
}