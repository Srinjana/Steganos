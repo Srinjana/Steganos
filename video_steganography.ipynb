{
  "nbformat": 4,
  "nbformat_minor": 0,
  "metadata": {
    "colab": {
      "name": "video_steganography.ipynb",
      "provenance": [],
      "authorship_tag": "ABX9TyPx6y5oqmA5J/L/PHuT4pu5",
      "include_colab_link": true
    },
    "kernelspec": {
      "name": "python3",
      "display_name": "Python 3"
    },
    "language_info": {
      "name": "python"
    }
  },
  "cells": [
    {
      "cell_type": "markdown",
      "metadata": {
        "id": "view-in-github",
        "colab_type": "text"
      },
      "source": [
        "<a href=\"https://colab.research.google.com/github/Srinjana/Steganos/blob/main/video_steganography.ipynb\" target=\"_parent\"><img src=\"https://colab.research.google.com/assets/colab-badge.svg\" alt=\"Open In Colab\"/></a>"
      ]
    },
    {
      "cell_type": "code",
      "metadata": {
        "colab": {
          "base_uri": "https://localhost:8080/"
        },
        "id": "AW2ayLSrvKb5",
        "outputId": "f892df91-9140-492f-86ac-dd7a668baadd"
      },
      "source": [
        "!pip install stegano"
      ],
      "execution_count": 1,
      "outputs": [
        {
          "output_type": "stream",
          "text": [
            "Requirement already satisfied: stegano in /usr/local/lib/python3.7/dist-packages (0.9.8)\n",
            "Requirement already satisfied: pillow<7.0.0,>=6.2.1 in /usr/local/lib/python3.7/dist-packages (from stegano) (6.2.2)\n",
            "Requirement already satisfied: crayons<0.4.0,>=0.3.0 in /usr/local/lib/python3.7/dist-packages (from stegano) (0.3.1)\n",
            "Requirement already satisfied: piexif<2.0.0,>=1.1.3 in /usr/local/lib/python3.7/dist-packages (from stegano) (1.1.3)\n",
            "Requirement already satisfied: colorama in /usr/local/lib/python3.7/dist-packages (from crayons<0.4.0,>=0.3.0->stegano) (0.4.4)\n"
          ],
          "name": "stdout"
        }
      ]
    },
    {
      "cell_type": "code",
      "metadata": {
        "id": "rw1cl6MUssys"
      },
      "source": [
        "from stegano import lsb\n",
        "from os.path import isfile, join"
      ],
      "execution_count": 2,
      "outputs": []
    },
    {
      "cell_type": "code",
      "metadata": {
        "id": "qaMGJo6gs1Ga"
      },
      "source": [
        "# import time, opencv, numpy modules\n",
        "import cv2\n",
        "import time  \n",
        "import numpy as np\n",
        "import math\n",
        "import os\n",
        "import shutil\n",
        "from subprocess import call, STDOUT\n"
      ],
      "execution_count": 3,
      "outputs": []
    },
    {
      "cell_type": "code",
      "metadata": {
        "id": "oiSKZBpMtAGN"
      },
      "source": [
        "def split_string(s_str, count=10):\n",
        "    per_c = math.ceil(len(s_str)/count)\n",
        "    c_cout = 0\n",
        "    out_str = ''\n",
        "    split_list = []\n",
        "    for s in s_str:\n",
        "        out_str += s\n",
        "        c_cout += 1\n",
        "        if c_cout == per_c:\n",
        "            split_list.append(out_str)\n",
        "            out_str = ''\n",
        "            c_cout = 0\n",
        "    if c_cout != 0:\n",
        "        split_list.append(out_str)\n",
        "    return split_list"
      ],
      "execution_count": 4,
      "outputs": []
    },
    {
      "cell_type": "code",
      "metadata": {
        "id": "P-4GWT6PtD8N"
      },
      "source": [
        "def frame_extraction(video):\n",
        "    if not os.path.exists(\"./tmp\"):\n",
        "        os.makedirs(\"tmp\")\n",
        "\n",
        "    temp_folder = \"./tmp\"\n",
        "    print(\"[INFO] tmp directory has been successfully created.\")\n",
        "\n",
        "    vidcap = cv2.VideoCapture(video)\n",
        "    count = 0\n",
        "\n",
        "    while True:\n",
        "        success, image = vidcap.read()\n",
        "        if not success:\n",
        "            break\n",
        "        cv2.imwrite(os.path.join(temp_folder, \"{:d}.png\".format(count)), image)\n",
        "        count += 1\n"
      ],
      "execution_count": 5,
      "outputs": []
    },
    {
      "cell_type": "code",
      "metadata": {
        "id": "kaZ5L_t_tKld"
      },
      "source": [
        "def encode_string(input_string, root=\"./tmp/\"):\n",
        "    split_string_list = split_string(input_string)\n",
        "    for i in range(0, len(split_string_list)):\n",
        "        f_name = \"{}{}.png\".format(root, i)\n",
        "        secret_enc = lsb.hide(f_name, split_string_list[i])\n",
        "        secret_enc.save(f_name)\n",
        "        print(\"[INFO] frame {} holds {}\".format(f_name, split_string_list[i]))\n"
      ],
      "execution_count": 6,
      "outputs": []
    },
    {
      "cell_type": "code",
      "metadata": {
        "id": "zmhDQs-utPb5"
      },
      "source": [
        "def decode_string(video):\n",
        "    frame_extraction(video)\n",
        "    secret = []\n",
        "    root = \"./tmp/\"\n",
        "    for i in range(len(os.listdir(root))):\n",
        "        f_name = \"{}{}.png\".format(root, i)\n",
        "        secret_dec = lsb.reveal(f_name)\n",
        "        if secret_dec == None:\n",
        "            break\n",
        "        secret.append(secret_dec)\n",
        "\n",
        "    print(''.join([i for i in secret]))\n",
        "    clean_tmp()\n"
      ],
      "execution_count": 7,
      "outputs": []
    },
    {
      "cell_type": "code",
      "metadata": {
        "id": "iroBp-_6tV89"
      },
      "source": [
        "def clean_tmp(path=\"./tmp\"):\n",
        "    if os.path.exists(path):\n",
        "        shutil.rmtree(path)\n",
        "        print(\"[INFO] tmp files have been cleaned up\")\n"
      ],
      "execution_count": 8,
      "outputs": []
    },
    {
      "cell_type": "code",
      "metadata": {
        "id": "epOLNcm3taLc"
      },
      "source": [
        "def main():\n",
        "    input_string = input(\"Enter the secret Message :\")\n",
        "    f_name = input(\"Enter the name of video\")\n",
        "    frame_extraction(f_name)\n",
        "    call([\"ffmpeg\", \"-i\", f_name, \"-q:a\", \"0\", \"-map\", \"a\",\n",
        "          \"tmp/audio.mp3\", \"-y\"], stdout=open(os.devnull, \"w\"), stderr=STDOUT)\n",
        "\n",
        "    encode_string(input_string)\n",
        "    call([\"ffmpeg\", \"-i\", \"tmp/%d.png\", \"-vcodec\", \"png\", \"tmp/video.mov\",\n",
        "          \"-y\"], stdout=open(os.devnull, \"w\"), stderr=STDOUT)\n",
        "\n",
        "    call([\"ffmpeg\", \"-i\", \"tmp/video.mov\", \"-i\", \"tmp/audio.mp3\", \"-codec\",\n",
        "          \"copy\", \"video.mov\", \"-y\"], stdout=open(os.devnull, \"w\"), stderr=STDOUT)\n",
        "    clean_tmp()"
      ],
      "execution_count": 9,
      "outputs": []
    },
    {
      "cell_type": "code",
      "metadata": {
        "colab": {
          "base_uri": "https://localhost:8080/"
        },
        "id": "ukYfplLvtjk_",
        "outputId": "fbbcfe8c-fea2-4739-fa91-c5761b889743"
      },
      "source": [
        "if __name__ == \"__main__\":\n",
        "    while True:\n",
        "        print(\"1.Hide a secret message in a video \\n 2.Reveal the secret message from the video\")\n",
        "        print(\"Any other key to exit\")\n",
        "        choice = input()\n",
        "        if choice == '1':\n",
        "            main()\n",
        "        elif choice == '2':\n",
        "            decode_string(input(\"Enter the name of video file with extension\"))\n",
        "        else:\n",
        "            break\n"
      ],
      "execution_count": 10,
      "outputs": [
        {
          "output_type": "stream",
          "text": [
            "1.Hide a secret message in a video \n",
            " 2.Reveal the secret message from the video\n",
            "Any other key to exit\n",
            "1\n",
            "Enter the secret Message :hakuna matata\n",
            "Enter the name of videoseal.mp4\n",
            "[INFO] tmp directory has been successfully created.\n",
            "[INFO] frame ./tmp/0.png holds ha\n",
            "[INFO] frame ./tmp/1.png holds ku\n",
            "[INFO] frame ./tmp/2.png holds na\n",
            "[INFO] frame ./tmp/3.png holds  m\n",
            "[INFO] frame ./tmp/4.png holds at\n",
            "[INFO] frame ./tmp/5.png holds at\n",
            "[INFO] frame ./tmp/6.png holds a\n",
            "[INFO] tmp files have been cleaned up\n",
            "1.Hide a secret message in a video \n",
            " 2.Reveal the secret message from the video\n",
            "Any other key to exit\n",
            "2\n",
            "Enter the name of video file with extensionvideo.mov\n",
            "[INFO] tmp directory has been successfully created.\n",
            "hakuna matata\n",
            "[INFO] tmp files have been cleaned up\n",
            "1.Hide a secret message in a video \n",
            " 2.Reveal the secret message from the video\n",
            "Any other key to exit\n",
            "n\n"
          ],
          "name": "stdout"
        }
      ]
    }
  ]
}