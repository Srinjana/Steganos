{
  "nbformat": 4,
  "nbformat_minor": 0,
  "metadata": {
    "colab": {
      "name": "video_steganography.ipynb",
      "provenance": [],
      "authorship_tag": "ABX9TyP2DsNeXmledbjMFd6EF55T",
      "include_colab_link": true
    },
    "kernelspec": {
      "name": "python3",
      "display_name": "Python 3"
    },
    "language_info": {
      "name": "python"
    }
  },
  "cells": [
    {
      "cell_type": "markdown",
      "metadata": {
        "id": "view-in-github",
        "colab_type": "text"
      },
      "source": [
        "<a href=\"https://colab.research.google.com/github/Srinjana/Steganos/blob/main/video_steganography.ipynb\" target=\"_parent\"><img src=\"https://colab.research.google.com/assets/colab-badge.svg\" alt=\"Open In Colab\"/></a>"
      ]
    },
    {
      "cell_type": "markdown",
      "metadata": {
        "id": "w8lPOAvc1QtY"
      },
      "source": [
        "We install the packages that need to be installed for successful execution."
      ]
    },
    {
      "cell_type": "code",
      "metadata": {
        "colab": {
          "base_uri": "https://localhost:8080/"
        },
        "id": "AW2ayLSrvKb5",
        "outputId": "ed01290a-a681-4962-b80b-f7a8f19bd1e2"
      },
      "source": [
        "!pip install stegano"
      ],
      "execution_count": 21,
      "outputs": [
        {
          "output_type": "stream",
          "text": [
            "Requirement already satisfied: stegano in /usr/local/lib/python3.7/dist-packages (0.9.8)\n",
            "Requirement already satisfied: crayons<0.4.0,>=0.3.0 in /usr/local/lib/python3.7/dist-packages (from stegano) (0.3.1)\n",
            "Requirement already satisfied: piexif<2.0.0,>=1.1.3 in /usr/local/lib/python3.7/dist-packages (from stegano) (1.1.3)\n",
            "Requirement already satisfied: pillow<7.0.0,>=6.2.1 in /usr/local/lib/python3.7/dist-packages (from stegano) (6.2.2)\n",
            "Requirement already satisfied: colorama in /usr/local/lib/python3.7/dist-packages (from crayons<0.4.0,>=0.3.0->stegano) (0.4.4)\n"
          ],
          "name": "stdout"
        }
      ]
    },
    {
      "cell_type": "markdown",
      "metadata": {
        "id": "Hf9R4tNA1Zhj"
      },
      "source": [
        "Importing all the necessary packages."
      ]
    },
    {
      "cell_type": "code",
      "metadata": {
        "id": "rw1cl6MUssys"
      },
      "source": [
        "from stegano import lsb\n",
        "from os.path import isfile, join"
      ],
      "execution_count": 22,
      "outputs": []
    },
    {
      "cell_type": "code",
      "metadata": {
        "id": "qaMGJo6gs1Ga"
      },
      "source": [
        "# import time, opencv, numpy modules\n",
        "import cv2\n",
        "import time  \n",
        "import numpy as np\n",
        "import math\n",
        "import os\n",
        "import shutil\n",
        "from subprocess import call, STDOUT\n"
      ],
      "execution_count": 23,
      "outputs": []
    },
    {
      "cell_type": "markdown",
      "metadata": {
        "id": "_GDg1FqczkHm"
      },
      "source": [
        "`split_string` is a helper function to split the input secret strings into small portions. As we do not need to hide all the text in the first frame itself, we divide the frames and hide it in many frames of the input video."
      ]
    },
    {
      "cell_type": "code",
      "metadata": {
        "id": "oiSKZBpMtAGN"
      },
      "source": [
        "def split_string(s_str, count=10):\n",
        "    per_c = math.ceil(len(s_str)/count)\n",
        "    c_cout = 0\n",
        "    out_str = ''\n",
        "    split_list = []\n",
        "    for s in s_str:\n",
        "        out_str += s\n",
        "        c_cout += 1\n",
        "        if c_cout == per_c:\n",
        "            split_list.append(out_str)\n",
        "            out_str = ''\n",
        "            c_cout = 0\n",
        "    if c_cout != 0:\n",
        "        split_list.append(out_str)\n",
        "    return split_list"
      ],
      "execution_count": 24,
      "outputs": []
    },
    {
      "cell_type": "markdown",
      "metadata": {
        "id": "kcsZk7St0NSs"
      },
      "source": [
        "In the function `frame_extraction`, we create a `tmp` directory that stores all the frames we are going to extract from our input video. We define a loop to go through all the frames of the input video and save it in the `tmp` folder with a unique filename that we can easily sort them. Once this is done, we are left with all the frames from the video."
      ]
    },
    {
      "cell_type": "code",
      "metadata": {
        "id": "P-4GWT6PtD8N"
      },
      "source": [
        "def frame_extraction(video):\n",
        "    if not os.path.exists(\"./tmp\"):\n",
        "        os.makedirs(\"tmp\")\n",
        "\n",
        "    temp_folder = \"./tmp\"\n",
        "    print(\"[INFO] tmp directory has been successfully created.\")\n",
        "\n",
        "    vidcap = cv2.VideoCapture(video)\n",
        "    count = 0\n",
        "\n",
        "    while True:\n",
        "        success, image = vidcap.read()\n",
        "        if not success:\n",
        "            break\n",
        "        cv2.imwrite(os.path.join(temp_folder, \"{:d}.png\".format(count)), image)\n",
        "        count += 1\n"
      ],
      "execution_count": 25,
      "outputs": []
    },
    {
      "cell_type": "markdown",
      "metadata": {
        "id": "XUPebKy02vhF"
      },
      "source": [
        "In the `encode_string` function we use LSB transform to hide the data into the frames of the video. Now that we have extracted all the frames, we can divide the strings into small chunks and hide each chunk of the message inside a frame using the `lsb.hide()` method. \n",
        "We have loaded the input video, pulled it to as many frames as possible, and encoded it. Now we have to put together the frames into a video along with the necessary encryption."
      ]
    },
    {
      "cell_type": "code",
      "metadata": {
        "id": "kaZ5L_t_tKld"
      },
      "source": [
        "def encode_string(input_string, root=\"./tmp/\"):\n",
        "    split_string_list = split_string(input_string)\n",
        "    for i in range(0, len(split_string_list)):\n",
        "        f_name = \"{}{}.png\".format(root, i)\n",
        "        secret_enc = lsb.hide(f_name, split_string_list[i])\n",
        "        secret_enc.save(f_name)\n",
        "        print(\"[INFO] frame {} holds the fragment {}\".format(f_name, split_string_list[i]))\n"
      ],
      "execution_count": 26,
      "outputs": []
    },
    {
      "cell_type": "markdown",
      "metadata": {
        "id": "kxzEy6Nv2D4z"
      },
      "source": [
        "In `decode_string` we have to do the exact same steps as with encryption, but in the opposite order. So we extract all the frames from the video and extract the information from the LSB of the individual frames. We then concatenate the fragments to obtain the final decoded string. We use the `lsb.reveal()` method to do so."
      ]
    },
    {
      "cell_type": "code",
      "metadata": {
        "id": "zmhDQs-utPb5"
      },
      "source": [
        "def decode_string(video):\n",
        "    frame_extraction(video)\n",
        "    secret = []\n",
        "    root = \"./tmp/\"\n",
        "    for i in range(len(os.listdir(root))):\n",
        "        f_name = \"{}{}.png\".format(root, i)\n",
        "        secret_dec = lsb.reveal(f_name)\n",
        "        if secret_dec == None:\n",
        "            break\n",
        "        secret.append(secret_dec)\n",
        "    \n",
        "    print(\"The decoded message is : \")\n",
        "    print(''.join([i for i in secret]))\n",
        "    clean_tmp()\n"
      ],
      "execution_count": 27,
      "outputs": []
    },
    {
      "cell_type": "markdown",
      "metadata": {
        "id": "9eAqzSQK08VG"
      },
      "source": [
        "We use the `clean_tmp` function below to clean up all the temporary files that were created during execution to prevent conflict if running the code more than once."
      ]
    },
    {
      "cell_type": "code",
      "metadata": {
        "id": "iroBp-_6tV89"
      },
      "source": [
        "def clean_tmp(path=\"./tmp\"):\n",
        "    if os.path.exists(path):\n",
        "        shutil.rmtree(path)\n",
        "        print(\"[INFO] tmp files have been cleaned up successfully.\")\n"
      ],
      "execution_count": 28,
      "outputs": []
    },
    {
      "cell_type": "markdown",
      "metadata": {
        "id": "1XA9LZyy383j"
      },
      "source": [
        "`FFmpeg` is a free and open-source command-line tool for transcoding multimedia files. It contains a set of shared audio and video libraries such as `libavcodec`, `libavformat`, and `libavutil`. With FFmpeg, we can extract audio files from a video, convert our PNG image files into video, and do much more."
      ]
    },
    {
      "cell_type": "markdown",
      "metadata": {
        "id": "Grj1Uj4d4LNX"
      },
      "source": [
        "To use `FFmpeg` in Python, we have to import call and `STDOUT` from the `subprocess` library.\n",
        "\n",
        "\n",
        " ```\n",
        " # call([\"ffmpeg\", \"-i\",\"video.mp4\" , \"-q:a\", \"0\", \"-map\", \"a\", \"tmp/audio.mp3\", \"-y\"],stdout=open(os.devnull, \"w\"), stderr=STDOUT)`\n",
        " ``` \n",
        "\n",
        "\n",
        "This code will extract the audio from the given video file and save it as “`audio.mp3`” in the `tmp` folder. After we encode the frames with our text, we can then use this audio file to give our encoded video file the proper audio.\n",
        "\n",
        "\n",
        "```\n",
        "# call([\"ffmpeg\", \"-i\", \"tmp/video.mov\", \"-i\", \"tmp/audio.mp3\", \"-codec\",\n",
        "          \"copy\", \"video.mov\", \"-y\"], stdout=open(os.devnull, \"w\"), stderr=STDOUT)\n",
        "```\n",
        "\n",
        "\n",
        "This code saves the encrypted video in a file names `video.mov` and reattaches the audio to it. In the end the output video obtained is not of a diminished quality.\n"
      ]
    },
    {
      "cell_type": "code",
      "metadata": {
        "id": "epOLNcm3taLc"
      },
      "source": [
        "def main():\n",
        "    input_string = input(\"Enter your Secret Message : \")\n",
        "    f_name = input(\"Enter the name of the source video file with extension: \")\n",
        "    frame_extraction(f_name)\n",
        "    call([\"ffmpeg\", \"-i\", f_name, \"-q:a\", \"0\", \"-map\", \"a\",\n",
        "          \"tmp/audio.mp3\", \"-y\"], stdout=open(os.devnull, \"w\"), stderr=STDOUT)\n",
        "\n",
        "    encode_string(input_string)\n",
        "    call([\"ffmpeg\", \"-i\", \"tmp/%d.png\", \"-vcodec\", \"png\", \"tmp/video.mov\",\n",
        "          \"-y\"], stdout=open(os.devnull, \"w\"), stderr=STDOUT)\n",
        "\n",
        "    call([\"ffmpeg\", \"-i\", \"tmp/video.mov\", \"-i\", \"tmp/audio.mp3\", \"-codec\",\n",
        "          \"copy\", \"video.mov\", \"-y\"], stdout=open(os.devnull, \"w\"), stderr=STDOUT)\n",
        "    clean_tmp()"
      ],
      "execution_count": 29,
      "outputs": []
    },
    {
      "cell_type": "markdown",
      "metadata": {
        "id": "kcO_bJcK2kmn"
      },
      "source": [
        "Driver Code"
      ]
    },
    {
      "cell_type": "code",
      "metadata": {
        "colab": {
          "base_uri": "https://localhost:8080/"
        },
        "id": "ukYfplLvtjk_",
        "outputId": "01818757-7785-40d4-cb6d-6da399eb6669"
      },
      "source": [
        "if __name__ == \"__main__\":\n",
        "    while True:\n",
        "      print(\"--- SELECT AN OPTION TO PERFORM VIDEO STEGANOGRAPHY ---\")\n",
        "      print(\"1.Hide a secret message in a video \\n 2.Reveal the secret message from the video\")\n",
        "      print(\"Enter any other key to exit\")\n",
        "      choice = input(\"Enter your key here: \")\n",
        "      if choice == '1':\n",
        "          main()\n",
        "      elif choice == '2':\n",
        "          decode_string(input(\"Enter the name of video file with extension: \"))\n",
        "          print(\" \")\n",
        "      else:\n",
        "          break\n"
      ],
      "execution_count": 30,
      "outputs": [
        {
          "output_type": "stream",
          "text": [
            "--- SELECT AN OPTION TO PERFORM VIDEO STEGANOGRAPHY ---\n",
            "1.Hide a secret message in a video \n",
            " 2.Reveal the secret message from the video\n",
            "Enter any other key to exit\n",
            "Enter your key here: 1\n",
            "Enter your Secret Message : Hakuna Matata\n",
            "Enter the name of the source video file with extension: seal.mp4\n",
            "[INFO] tmp directory has been successfully created.\n",
            "[INFO] frame ./tmp/0.png holds the fragment Ha\n",
            "[INFO] frame ./tmp/1.png holds the fragment ku\n",
            "[INFO] frame ./tmp/2.png holds the fragment na\n",
            "[INFO] frame ./tmp/3.png holds the fragment  M\n",
            "[INFO] frame ./tmp/4.png holds the fragment at\n",
            "[INFO] frame ./tmp/5.png holds the fragment at\n",
            "[INFO] frame ./tmp/6.png holds the fragment a\n",
            "[INFO] tmp files have been cleaned up successfully.\n",
            "--- SELECT AN OPTION TO PERFORM VIDEO STEGANOGRAPHY ---\n",
            "1.Hide a secret message in a video \n",
            " 2.Reveal the secret message from the video\n",
            "Enter any other key to exit\n",
            "Enter your key here: 2\n",
            "Enter the name of video file with extension: video.mov\n",
            "[INFO] tmp directory has been successfully created.\n",
            "The decoded message is : \n",
            "Hakuna Matata\n",
            "[INFO] tmp files have been cleaned up successfully.\n",
            " \n",
            "--- SELECT AN OPTION TO PERFORM VIDEO STEGANOGRAPHY ---\n",
            "1.Hide a secret message in a video \n",
            " 2.Reveal the secret message from the video\n",
            "Enter any other key to exit\n",
            "Enter your key here: h\n"
          ],
          "name": "stdout"
        }
      ]
    }
  ]
}